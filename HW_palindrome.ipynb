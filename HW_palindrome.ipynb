{
 "cells": [
  {
   "cell_type": "markdown",
   "metadata": {},
   "source": [
    "# Is it a palindrome?\n",
    "\n",
    "A palindrome is a word, phrase, or sequence that reads the same backward as forward, e.g., madam or nurses run.\n",
    "\n",
    "Write code that takes a string and returns `True` if that string is a palindrome. Your analysis should be case-insensitive and should disregard spaces. E.g. \"Race car\" should be considered a palindrome, despite beginning with a capitalized letter and containing a space. None of the strings will contain punctuation. Thus your function should produce the following behavior:\n",
    "\n",
    "- \"Are we not drawn onward to new era\" -> True\n",
    "- \"batman\" -> False\n",
    "\n",
    "## Required Concepts\n",
    "Basic Object Types\n",
    "- strings\n",
    "- checking equality\n",
    "\n",
    "Sequence Types\n",
    "- slicing\n",
    "\n",
    "## Examples\n",
    "```python\n",
    ">>> student_func(\"Race car\")\n",
    "True\n",
    "\n",
    ">>> student_func(\"RaCeCaR\")\n",
    "True\n",
    "\n",
    ">>> student_func(\"apple\")\n",
    "False\n",
    "```"
   ]
  },
  {
   "cell_type": "code",
   "execution_count": 1,
   "metadata": {},
   "outputs": [
    {
     "ename": "SyntaxError",
     "evalue": "invalid syntax (998326169.py, line 7)",
     "output_type": "error",
     "traceback": [
      "\u001b[1;36m  File \u001b[1;32m\"C:\\Users\\arnav\\AppData\\Local\\Temp\\ipykernel_6856\\998326169.py\"\u001b[1;36m, line \u001b[1;32m7\u001b[0m\n\u001b[1;33m    if x == x[::-1]\u001b[0m\n\u001b[1;37m                   ^\u001b[0m\n\u001b[1;31mSyntaxError\u001b[0m\u001b[1;31m:\u001b[0m invalid syntax\n"
     ]
    }
   ],
   "source": [
    "# make sure to execute this cell so that your function is defined\n",
    "# you must re-run this cell any time you make a change to this function\n",
    "\n",
    "def student_func(x):\n",
    "    x = x.lower()\n",
    "    x = ''.join(x.split())\n",
    "    reversed_string = \n",
    "    if x == "
   ]
  },
  {
   "cell_type": "code",
   "execution_count": null,
   "metadata": {},
   "outputs": [],
   "source": [
    "# Execute this cell to grade your work\n",
    "from bwsi_grader.python.palindrome import grader\n",
    "grader(student_func)"
   ]
  }
 ],
 "metadata": {
  "kernelspec": {
   "display_name": "Python 3 (ipykernel)",
   "language": "python",
   "name": "python3"
  },
  "language_info": {
   "codemirror_mode": {
    "name": "ipython",
    "version": 3
   },
   "file_extension": ".py",
   "mimetype": "text/x-python",
   "name": "python",
   "nbconvert_exporter": "python",
   "pygments_lexer": "ipython3",
   "version": "3.9.13"
  }
 },
 "nbformat": 4,
 "nbformat_minor": 2
}
